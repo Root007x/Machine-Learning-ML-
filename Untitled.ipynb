{
 "cells": [
  {
   "cell_type": "code",
   "execution_count": 4,
   "id": "5d10ff5b",
   "metadata": {},
   "outputs": [
    {
     "name": "stdout",
     "output_type": "stream",
     "text": [
      "['Developing' 'Developed' 'Developed' 'Under Developed' 'Developing'\n",
      " 'Under Developed']\n",
      "[[ 1.391 27.55 ]]\n",
      "Predicted economic status of Indonesia: ['Developing']\n"
     ]
    }
   ],
   "source": [
    "from sklearn.neighbors import KNeighborsClassifier\n",
    "import numpy as np\n",
    "\n",
    "# Data from the image\n",
    "X_train = np.array([\n",
    "    [0.462, 17.29],   # Bangladesh\n",
    "    [18.551, 142.67], # China\n",
    "    [4.734, 8.58],    # Germany\n",
    "    [0.007, 0.5],     # Maldives\n",
    "    [0.392, 22.38],   # Nigeria\n",
    "    [0.003, 0.86]     # Sierra Leone\n",
    "])\n",
    "y_train = np.array(['Developing', 'Developed', 'Developed', 'Under Developed', 'Developing', 'Under Developed'])\n",
    "\n",
    "print(y_train)\n",
    "\n",
    "# Create and fit the KNN classifier\n",
    "knn = KNeighborsClassifier(n_neighbors=4)\n",
    "knn.fit(X_train, y_train)\n",
    "\n",
    "# Data for prediction\n",
    "X_test = np.array([[1.391, 27.55]])  # Indonesia\n",
    "\n",
    "print(X_test)\n",
    "# Predict the economic status of Indonesia\n",
    "prediction = knn.predict(X_test)\n",
    "print(\"Predicted economic status of Indonesia:\", prediction)\n"
   ]
  },
  {
   "cell_type": "code",
   "execution_count": null,
   "id": "f0c9d9f7",
   "metadata": {},
   "outputs": [],
   "source": []
  }
 ],
 "metadata": {
  "kernelspec": {
   "display_name": "Python 3 (ipykernel)",
   "language": "python",
   "name": "python3"
  },
  "language_info": {
   "codemirror_mode": {
    "name": "ipython",
    "version": 3
   },
   "file_extension": ".py",
   "mimetype": "text/x-python",
   "name": "python",
   "nbconvert_exporter": "python",
   "pygments_lexer": "ipython3",
   "version": "3.11.5"
  }
 },
 "nbformat": 4,
 "nbformat_minor": 5
}
