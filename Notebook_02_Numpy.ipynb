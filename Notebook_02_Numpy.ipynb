{
 "cells": [
  {
   "cell_type": "markdown",
   "id": "49489c2c",
   "metadata": {},
   "source": [
    "# Introduction Numpy"
   ]
  },
  {
   "cell_type": "code",
   "execution_count": 1,
   "id": "830e7aba",
   "metadata": {},
   "outputs": [
    {
     "name": "stdout",
     "output_type": "stream",
     "text": [
      "[1 2 3 4 5]\n"
     ]
    }
   ],
   "source": [
    "import numpy\n",
    "\n",
    "# Creating a numpy array\n",
    "arr = numpy.array([1,2,3,4,5])\n",
    "print(arr)"
   ]
  },
  {
   "cell_type": "code",
   "execution_count": 2,
   "id": "2722455f",
   "metadata": {},
   "outputs": [
    {
     "name": "stdout",
     "output_type": "stream",
     "text": [
      "[1 2 3 4 5]\n"
     ]
    }
   ],
   "source": [
    "# Numpy is usually imported under the np alias\n",
    "import numpy as np\n",
    "\n",
    "# Access Numpy Libary using np\n",
    "arr = np.array([1,2,3,4,5])\n",
    "print(arr)"
   ]
  },
  {
   "cell_type": "code",
   "execution_count": 3,
   "id": "ed44b58a",
   "metadata": {},
   "outputs": [
    {
     "name": "stdout",
     "output_type": "stream",
     "text": [
      "1\n"
     ]
    }
   ],
   "source": [
    "# diamention check\n",
    "print(arr.ndim)"
   ]
  },
  {
   "cell_type": "markdown",
   "id": "b6b95818",
   "metadata": {},
   "source": [
    "## Numpy shape"
   ]
  },
  {
   "cell_type": "code",
   "execution_count": 6,
   "id": "d2568001",
   "metadata": {},
   "outputs": [],
   "source": [
    "arr1 = np.array(\n",
    "    [\n",
    "        [1,2,3,4],\n",
    "        [5,6,7,7]\n",
    "    ]\n",
    ")"
   ]
  },
  {
   "cell_type": "code",
   "execution_count": 8,
   "id": "f624fcdd",
   "metadata": {},
   "outputs": [
    {
     "name": "stdout",
     "output_type": "stream",
     "text": [
      "2\n",
      "(2, 4)\n"
     ]
    }
   ],
   "source": [
    "print(arr1.ndim)\n",
    "print(arr1.shape)"
   ]
  },
  {
   "cell_type": "markdown",
   "id": "6fd26291",
   "metadata": {},
   "source": [
    "## Numpy Reshape"
   ]
  },
  {
   "cell_type": "code",
   "execution_count": 13,
   "id": "8c4f6ce9",
   "metadata": {},
   "outputs": [
    {
     "name": "stdout",
     "output_type": "stream",
     "text": [
      "[1 2 3 4 5 6]\n",
      "[[1 2 3]\n",
      " [4 5 6]]\n"
     ]
    }
   ],
   "source": [
    "import numpy as np\n",
    "\n",
    "# creating a Numpy array\n",
    "arr = np.array([1,2,3,4,5,6])\n",
    "print(arr)\n",
    "\n",
    "# reshaping the array to 2x3 matrix\n",
    "reshpape_arr = arr.reshape(2,3)\n",
    "print(reshpape_arr)"
   ]
  },
  {
   "cell_type": "markdown",
   "id": "4a95738f",
   "metadata": {},
   "source": [
    "## Numpy Array indexing"
   ]
  },
  {
   "cell_type": "code",
   "execution_count": 14,
   "id": "374ec5dd",
   "metadata": {},
   "outputs": [
    {
     "name": "stdout",
     "output_type": "stream",
     "text": [
      "['1.1' '5' '2' 'True' 'Man']\n"
     ]
    }
   ],
   "source": [
    "arr = np.array([1.1,5,2,'True','Man'])\n",
    "print(arr)"
   ]
  },
  {
   "cell_type": "code",
   "execution_count": 15,
   "id": "43939fa9",
   "metadata": {},
   "outputs": [
    {
     "name": "stdout",
     "output_type": "stream",
     "text": [
      "1\n",
      "4\n"
     ]
    }
   ],
   "source": [
    "arr = np.array([1,2,3,4,5])\n",
    "print(arr[0])\n",
    "print(arr[0] + arr[2])"
   ]
  },
  {
   "cell_type": "code",
   "execution_count": 18,
   "id": "e1e5c779",
   "metadata": {},
   "outputs": [
    {
     "name": "stdout",
     "output_type": "stream",
     "text": [
      "4\n"
     ]
    }
   ],
   "source": [
    "# access 2D arrays\n",
    "arr = np.array([\n",
    "    [1,2,3,4],\n",
    "    [1,2,3,4]\n",
    "])\n",
    "print(arr[0][3])"
   ]
  },
  {
   "cell_type": "code",
   "execution_count": 23,
   "id": "2cc66108",
   "metadata": {},
   "outputs": [
    {
     "name": "stdout",
     "output_type": "stream",
     "text": [
      "3\n",
      "2\n"
     ]
    }
   ],
   "source": [
    "# 3D array\n",
    "arr = np.array([\n",
    "    [\n",
    "        [1,2,4],\n",
    "        [1,2,3]\n",
    "    ],\n",
    "    [\n",
    "        [1,2,4],\n",
    "        [4,5,6]\n",
    "    ]\n",
    "])\n",
    "\n",
    "print(arr[0,1,2])\n",
    "print(arr[0][1][1])"
   ]
  },
  {
   "cell_type": "code",
   "execution_count": 22,
   "id": "5d835006",
   "metadata": {},
   "outputs": [
    {
     "name": "stdout",
     "output_type": "stream",
     "text": [
      "5\n"
     ]
    }
   ],
   "source": [
    "# Negative Indexing\n",
    "arr = np.array([\n",
    "    [1,2,3,4,5],\n",
    "    [6,7,8,9,10]\n",
    "])\n",
    "\n",
    "print(arr[0][-1])"
   ]
  },
  {
   "cell_type": "markdown",
   "id": "04a8f3af",
   "metadata": {},
   "source": [
    "# Numpy Array Iterating"
   ]
  },
  {
   "cell_type": "code",
   "execution_count": 26,
   "id": "8f43a19b",
   "metadata": {},
   "outputs": [
    {
     "name": "stdout",
     "output_type": "stream",
     "text": [
      "1 2 3 4 5 \n",
      "6 7 8 9 10 \n"
     ]
    }
   ],
   "source": [
    "# For loop\n",
    "\n",
    "import numpy as np\n",
    "\n",
    "arr = np.array([\n",
    "    [1,2,3,4,5],\n",
    "    [6,7,8,9,10]\n",
    "])\n",
    "\n",
    "# Iterating through a 2D array using a nested Loop\n",
    "\n",
    "for row in arr:\n",
    "    for item in row:\n",
    "        print(item,end=\" \")\n",
    "    print()\n"
   ]
  },
  {
   "cell_type": "code",
   "execution_count": 27,
   "id": "82d29987",
   "metadata": {},
   "outputs": [
    {
     "name": "stdout",
     "output_type": "stream",
     "text": [
      "1\n",
      "2\n",
      "3\n"
     ]
    }
   ],
   "source": [
    "# 1D array\n",
    "arr = np.array([1,2,3])\n",
    "\n",
    "for i in arr:\n",
    "    print(i)"
   ]
  },
  {
   "cell_type": "code",
   "execution_count": 28,
   "id": "48312fe3",
   "metadata": {},
   "outputs": [
    {
     "name": "stdout",
     "output_type": "stream",
     "text": [
      "1\n",
      "2\n",
      "4\n",
      "1\n",
      "2\n",
      "3\n",
      "1\n",
      "2\n",
      "4\n",
      "4\n",
      "5\n",
      "6\n"
     ]
    }
   ],
   "source": [
    "# 3D iter\n",
    "# 3D array\n",
    "arr = np.array([\n",
    "    [\n",
    "        [1,2,4],\n",
    "        [1,2,3]\n",
    "    ],\n",
    "    [\n",
    "        [1,2,4],\n",
    "        [4,5,6]\n",
    "    ]\n",
    "])\n",
    "\n",
    "for x in arr:\n",
    "    for y in x:\n",
    "        for z in y:\n",
    "            print(z)"
   ]
  },
  {
   "cell_type": "markdown",
   "id": "9f9d4af9",
   "metadata": {},
   "source": [
    "# Numpy Array Slicing\n",
    "* [:end] 0 to end\n",
    "* [start:end]: start to end\n",
    "* [start:] start to last index\n",
    "* [::step] start to end increment to step\n",
    "* [start:end:step] start to end follows given steps"
   ]
  },
  {
   "cell_type": "code",
   "execution_count": 32,
   "id": "920cb4e0",
   "metadata": {},
   "outputs": [
    {
     "name": "stdout",
     "output_type": "stream",
     "text": [
      "[1 2 4 5 6]\n",
      "[4 5 6]\n",
      "[5 6]\n",
      "[1 4 6]\n",
      "[4 5 6]\n"
     ]
    }
   ],
   "source": [
    "# creating a numpy array\n",
    "arr = np.array([1,2,4,5,6])\n",
    "\n",
    "# Slicing from beginning to index 6\n",
    "s1 = arr[:6]\n",
    "print(s1)\n",
    "\n",
    "# Slicing from index 2 to index 5\n",
    "s2 = arr[2:5]\n",
    "print(s2)\n",
    "\n",
    "# Slicing from 3 to end\n",
    "s3 = arr[3:]\n",
    "print(s3)\n",
    "\n",
    "# Slicing with a step of 2\n",
    "s4 = arr[::2]\n",
    "print(s4)\n",
    "\n",
    "# Slicing with start:end:step\n",
    "s5 = arr[2::]\n",
    "print(s5)"
   ]
  },
  {
   "cell_type": "code",
   "execution_count": 35,
   "id": "7292748f",
   "metadata": {},
   "outputs": [
    {
     "name": "stdout",
     "output_type": "stream",
     "text": [
      "[4 5 6]\n",
      "[2 5 8]\n"
     ]
    }
   ],
   "source": [
    "# Creating a 2D Numpy Array and Apply Slicing\n",
    "\n",
    "arr = np.array([\n",
    "    [1,2,3],\n",
    "    [4,5,6],\n",
    "    [7,8,9]\n",
    "])\n",
    "\n",
    "# Slicing rows\n",
    "row = arr[1]\n",
    "print(row)\n",
    "col = arr[:,1]\n",
    "print(col)"
   ]
  },
  {
   "cell_type": "code",
   "execution_count": 36,
   "id": "936a64c0",
   "metadata": {},
   "outputs": [
    {
     "name": "stdout",
     "output_type": "stream",
     "text": [
      "[[2 3]\n",
      " [5 6]]\n"
     ]
    }
   ],
   "source": [
    "# arr[row,col]\n",
    "matrix = arr[:2,1:]\n",
    "print(matrix)"
   ]
  },
  {
   "cell_type": "markdown",
   "id": "3b9dc9a3",
   "metadata": {},
   "source": [
    "## Numpy DataTypes"
   ]
  },
  {
   "cell_type": "code",
   "execution_count": 40,
   "id": "b528b0ab",
   "metadata": {},
   "outputs": [
    {
     "name": "stdout",
     "output_type": "stream",
     "text": [
      "int32\n",
      "float64\n"
     ]
    }
   ],
   "source": [
    "arr = np.array([1,2,3])\n",
    "print(arr.dtype)\n",
    "arrb = np.array([1.4,13.4])\n",
    "print(arrb.dtype)"
   ]
  },
  {
   "cell_type": "code",
   "execution_count": 45,
   "id": "bf5f162e",
   "metadata": {},
   "outputs": [
    {
     "name": "stdout",
     "output_type": "stream",
     "text": [
      "[1 2 3]\n",
      "[1.4 2.4]\n"
     ]
    }
   ],
   "source": [
    "# Specifying data types in Numpy arrays\n",
    "arr_int32 = np.array([1,2,3],dtype=np.int32)\n",
    "arr_float64 = np.array([1.4,2.4])\n",
    "print(arr_int32)\n",
    "print(arr_float64)"
   ]
  },
  {
   "cell_type": "code",
   "execution_count": 46,
   "id": "c151fe0e",
   "metadata": {},
   "outputs": [
    {
     "name": "stdout",
     "output_type": "stream",
     "text": [
      "[1. 2. 3.]\n"
     ]
    }
   ],
   "source": [
    "# Convertion between data types\n",
    "\n",
    "arr = np.array([1,2,3])\n",
    "# Convert to float 64\n",
    "arr_float64 = arr.astype(np.float64)\n",
    "print(arr_float64)"
   ]
  },
  {
   "cell_type": "markdown",
   "id": "71d499b4",
   "metadata": {},
   "source": [
    "## Joining Numpy Arrays"
   ]
  },
  {
   "cell_type": "code",
   "execution_count": 48,
   "id": "38a13c39",
   "metadata": {},
   "outputs": [
    {
     "name": "stdout",
     "output_type": "stream",
     "text": [
      "[1 2 3 4 5 6]\n"
     ]
    }
   ],
   "source": [
    "# Concatenation using np.concatenate\n",
    "\n",
    "arr1 = np.array([1,2,3])\n",
    "arr2 = np.array([4,5,6])\n",
    "\n",
    "result = np.concatenate((arr1,arr2))\n",
    "print(result)"
   ]
  },
  {
   "cell_type": "markdown",
   "id": "7da25fad",
   "metadata": {},
   "source": [
    "## Splitting Numpy Arrays\n"
   ]
  },
  {
   "cell_type": "code",
   "execution_count": 49,
   "id": "4591d24b",
   "metadata": {},
   "outputs": [
    {
     "name": "stdout",
     "output_type": "stream",
     "text": [
      "[1 2 3 4 5 6 7 8 9]\n"
     ]
    }
   ],
   "source": [
    "# Creating data using np.arange\n",
    "arr = np.arange(1,10)\n",
    "print(arr)"
   ]
  },
  {
   "cell_type": "code",
   "execution_count": 50,
   "id": "327c62d9",
   "metadata": {},
   "outputs": [
    {
     "name": "stdout",
     "output_type": "stream",
     "text": [
      "[array([1, 2, 3]), array([4, 5, 6]), array([7, 8, 9])]\n"
     ]
    }
   ],
   "source": [
    "# Splitting the array into 3 quals parts\n",
    "split_arr = np.split(arr,3)\n",
    "print(split_arr)"
   ]
  },
  {
   "cell_type": "code",
   "execution_count": 53,
   "id": "048484f1",
   "metadata": {},
   "outputs": [
    {
     "name": "stdout",
     "output_type": "stream",
     "text": [
      "6\n"
     ]
    }
   ],
   "source": [
    "print(split_arr[1][2])"
   ]
  },
  {
   "cell_type": "code",
   "execution_count": 54,
   "id": "5c9396c4",
   "metadata": {},
   "outputs": [
    {
     "name": "stdout",
     "output_type": "stream",
     "text": [
      "[array([1, 2, 3]), array([4, 5]), array([6, 7]), array([8, 9])]\n"
     ]
    }
   ],
   "source": [
    "# Unqual splitting with np.array_split\n",
    "unequal_split = np.array_split(arr,4)\n",
    "print(unequal_split)"
   ]
  },
  {
   "cell_type": "markdown",
   "id": "2e6d43f3",
   "metadata": {},
   "source": [
    "## Numpy Searching Arrays"
   ]
  },
  {
   "cell_type": "code",
   "execution_count": 56,
   "id": "e35a87b7",
   "metadata": {},
   "outputs": [
    {
     "name": "stdout",
     "output_type": "stream",
     "text": [
      "(array([3, 4, 5, 6, 7, 8], dtype=int64),)\n"
     ]
    }
   ],
   "source": [
    "arr = np.arange(1,10)\n",
    "# Finding indices where the value is greater that 3\n",
    "index = np.where(arr > 3)\n",
    "print(index)"
   ]
  },
  {
   "cell_type": "code",
   "execution_count": 59,
   "id": "ac30c82a",
   "metadata": {},
   "outputs": [
    {
     "name": "stdout",
     "output_type": "stream",
     "text": [
      "(array([0, 3, 4], dtype=int64),)\n"
     ]
    }
   ],
   "source": [
    "arr = np.array([10,2,5,7,8])\n",
    "index = np.where(arr > 5)\n",
    "print(index)"
   ]
  },
  {
   "cell_type": "markdown",
   "id": "fb63e4ca",
   "metadata": {},
   "source": [
    "## Array Masking"
   ]
  },
  {
   "cell_type": "code",
   "execution_count": 60,
   "id": "c3eae445",
   "metadata": {},
   "outputs": [
    {
     "name": "stdout",
     "output_type": "stream",
     "text": [
      "[10  7  8]\n"
     ]
    }
   ],
   "source": [
    "# Creating a boolean mask means showing values\n",
    "mask  = arr > 5\n",
    "filtered_values = arr[mask]\n",
    "print(filtered_values)"
   ]
  },
  {
   "cell_type": "markdown",
   "id": "5d81445d",
   "metadata": {},
   "source": [
    "## Numpy Sorting Arrays"
   ]
  },
  {
   "cell_type": "code",
   "execution_count": 62,
   "id": "951313ba",
   "metadata": {},
   "outputs": [
    {
     "name": "stdout",
     "output_type": "stream",
     "text": [
      "[1 1 4 5 7]\n"
     ]
    }
   ],
   "source": [
    "arr = np.array([1,4,5,1,7])\n",
    "sorted_arr = np.sort(arr)\n",
    "print(sorted_arr)"
   ]
  },
  {
   "cell_type": "code",
   "execution_count": 63,
   "id": "2aa91a1e",
   "metadata": {},
   "outputs": [
    {
     "name": "stdout",
     "output_type": "stream",
     "text": [
      "[7 5 4 1 1]\n"
     ]
    }
   ],
   "source": [
    "# Reverse\n",
    "ultra_sort = np.sort(arr)[::-1]\n",
    "print(ultra_sort)"
   ]
  },
  {
   "cell_type": "code",
   "execution_count": 69,
   "id": "e20ad5fc",
   "metadata": {},
   "outputs": [
    {
     "name": "stdout",
     "output_type": "stream",
     "text": [
      "[[1 2 5]\n",
      " [0 4 8]]\n",
      "[[0 2 5]\n",
      " [1 4 8]]\n"
     ]
    }
   ],
   "source": [
    "# 2d Array Sort\n",
    "arr_2d = np.array([\n",
    "    [1,2,5],\n",
    "    [0,4,8]\n",
    "])\n",
    "\n",
    "# Sort along rows (axis=1)\n",
    "sorted_rows = np.sort(arr_2d,axis = 1)\n",
    "print(sorted_rows)\n",
    "\n",
    "# Sort along cols (axis=0)\n",
    "sorted_cols = np.sort(arr_2d,axis=0)\n",
    "print(sorted_cols)\n"
   ]
  },
  {
   "cell_type": "markdown",
   "id": "16069e35",
   "metadata": {},
   "source": [
    "## Array Operation"
   ]
  },
  {
   "cell_type": "code",
   "execution_count": 67,
   "id": "bb3d92ed",
   "metadata": {
    "scrolled": true
   },
   "outputs": [
    {
     "name": "stdout",
     "output_type": "stream",
     "text": [
      "[ 1  4 16]\n",
      "[2 4 8]\n"
     ]
    }
   ],
   "source": [
    "arr1 = np.array([1,2,4])\n",
    "arr2 = np.array([1,2,4])\n",
    "mul = arr1*arr2\n",
    "print(mul)\n",
    "print(arr1 + arr2)"
   ]
  },
  {
   "cell_type": "markdown",
   "id": "8f21843c",
   "metadata": {},
   "source": [
    "## Descriptive Statistics\n",
    "Mean, Median,Variance, and Standared Deviation"
   ]
  },
  {
   "cell_type": "code",
   "execution_count": 71,
   "id": "5290acb5",
   "metadata": {},
   "outputs": [
    {
     "name": "stdout",
     "output_type": "stream",
     "text": [
      "30.0\n",
      "30.0\n",
      "200.0\n",
      "14.142135623730951\n"
     ]
    }
   ],
   "source": [
    "data = np.array([10,20,30,40,50])\n",
    "\n",
    "mean = np.mean(data)\n",
    "median = np.median(data)\n",
    "variance = np.var(data)\n",
    "std_dev = np.std(data)\n",
    "\n",
    "print(mean)\n",
    "print(median)\n",
    "print(variance)\n",
    "print(std_dev)"
   ]
  },
  {
   "cell_type": "markdown",
   "id": "9439ce0e",
   "metadata": {},
   "source": [
    "## Handiling Missing Values\n"
   ]
  },
  {
   "cell_type": "code",
   "execution_count": 76,
   "id": "5a1f37ae",
   "metadata": {},
   "outputs": [
    {
     "name": "stdout",
     "output_type": "stream",
     "text": [
      "[ 1.  2. nan  4.  5. nan  7.]\n",
      "2\n"
     ]
    }
   ],
   "source": [
    "# np.nan means no value or null\n",
    "data = np.array([1,2,np.nan,4,5,np.nan,7])\n",
    "print(data)\n",
    "\n",
    "# Checking for NAN values\n",
    "nan_count = np.sum(np.isnan(data))\n",
    "print(nan_count)"
   ]
  },
  {
   "cell_type": "code",
   "execution_count": 79,
   "id": "6adeae48",
   "metadata": {},
   "outputs": [
    {
     "name": "stdout",
     "output_type": "stream",
     "text": [
      "[1. 2. 4. 5. 7.]\n"
     ]
    }
   ],
   "source": [
    "# Removing Nan values\n",
    "data_cleaned = data[~np.isnan(data)]\n",
    "print(data_cleaned)"
   ]
  },
  {
   "cell_type": "code",
   "execution_count": 80,
   "id": "4aebe753",
   "metadata": {},
   "outputs": [
    {
     "name": "stdout",
     "output_type": "stream",
     "text": [
      "[1.  2.  3.8 4.  5.  3.8 7. ]\n"
     ]
    }
   ],
   "source": [
    "# Handiling missing values\n",
    "\n",
    "#Calculate mean values excluding all nan\n",
    "mean = np.nanmean(data)\n",
    "\n",
    "# replacing nan values with mean value\n",
    "data_filled = np.where(np.isnan(data),mean,data)\n",
    "print(data_filled)\n"
   ]
  }
 ],
 "metadata": {
  "kernelspec": {
   "display_name": "Python 3 (ipykernel)",
   "language": "python",
   "name": "python3"
  },
  "language_info": {
   "codemirror_mode": {
    "name": "ipython",
    "version": 3
   },
   "file_extension": ".py",
   "mimetype": "text/x-python",
   "name": "python",
   "nbconvert_exporter": "python",
   "pygments_lexer": "ipython3",
   "version": "3.11.5"
  }
 },
 "nbformat": 4,
 "nbformat_minor": 5
}
