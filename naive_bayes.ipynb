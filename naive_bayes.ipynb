{
 "cells": [
  {
   "cell_type": "code",
   "execution_count": 20,
   "id": "db71bb42",
   "metadata": {},
   "outputs": [
    {
     "name": "stdout",
     "output_type": "stream",
     "text": [
      "Probability of 'Yes': 0.6428571428571429\n",
      "Probability of 'No': 0.35714285714285715\n"
     ]
    }
   ],
   "source": [
    "import pandas as pd\n",
    "from sklearn.preprocessing import LabelEncoder\n",
    "from sklearn.naive_bayes import GaussianNB\n",
    "\n",
    "# Given data\n",
    "data = {\n",
    "    'Outlook': [\"Sunny\", \"Sunny\", \"Overcast\", \"Rain\", \"Rain\", \"Rain\",\n",
    "                \"Overcast\", \"Sunny\", \"Sunny\", \"Rain\", \"Sunny\", \"Overcast\",\n",
    "                \"Overcast\", \"Rain\"],\n",
    "    'Temp': [\"Hot\", \"Hot\", \"Hot\", \"Mild\", \"Cool\", \"Cool\", \"Cool\", \"Mild\",\n",
    "             \"Cool\", \"Mild\", \"Mild\", \"Mild\", \"Hot\", \"Mild\"],\n",
    "    'Humidity': [\"High\", \"High\", \"High\", \"High\", \"Normal\", \"Normal\", \"Normal\",\n",
    "                 \"High\", \"Normal\", \"Normal\", \"Normal\", \"High\", \"Normal\", \"High\"],\n",
    "    'Windy': [\"False\", \"True\", \"False\", \"False\", \"False\", \"True\", \"True\",\n",
    "              \"False\", \"False\", \"False\", \"True\", \"True\", \"False\", \"True\"],\n",
    "    'Play Golf': [\"No\", \"No\", \"Yes\", \"Yes\", \"Yes\", \"No\", \"Yes\", \"No\", \"Yes\",\n",
    "                  \"Yes\", \"Yes\", \"Yes\", \"Yes\", \"No\"]\n",
    "}\n",
    "\n",
    "# Create DataFrame\n",
    "df = pd.DataFrame(data)\n",
    "\n",
    "# Encode categorical variables\n",
    "label_encoders = {}\n",
    "for column in df.columns:\n",
    "    label_encoders[column] = LabelEncoder()\n",
    "    df[column] = label_encoders[column].fit_transform(df[column])\n",
    "    \n",
    "# Split data into features (X) and target variable (y)\n",
    "X = df.drop(columns=['Play Golf'])\n",
    "y = df['Play Golf']\n",
    "\n",
    "# Initialize Gaussian Naive Bayes Classifier\n",
    "gnb = GaussianNB()\n",
    "\n",
    "# Fit the model\n",
    "gnb.fit(X, y)\n",
    "\n",
    "# Find probability for 'Yes' and 'No'\n",
    "proba_yes = gnb.class_prior_[1]\n",
    "proba_no = gnb.class_prior_[0]\n",
    "\n",
    "print(\"Probability of 'Yes':\", proba_yes)\n",
    "print(\"Probability of 'No':\", proba_no)\n"
   ]
  },
  {
   "cell_type": "code",
   "execution_count": null,
   "id": "35a0e553",
   "metadata": {},
   "outputs": [],
   "source": []
  },
  {
   "cell_type": "code",
   "execution_count": null,
   "id": "5b694b2d",
   "metadata": {},
   "outputs": [],
   "source": []
  }
 ],
 "metadata": {
  "kernelspec": {
   "display_name": "Python 3 (ipykernel)",
   "language": "python",
   "name": "python3"
  },
  "language_info": {
   "codemirror_mode": {
    "name": "ipython",
    "version": 3
   },
   "file_extension": ".py",
   "mimetype": "text/x-python",
   "name": "python",
   "nbconvert_exporter": "python",
   "pygments_lexer": "ipython3",
   "version": "3.11.5"
  }
 },
 "nbformat": 4,
 "nbformat_minor": 5
}
