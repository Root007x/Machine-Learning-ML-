{
 "cells": [
  {
   "cell_type": "markdown",
   "id": "581885c7",
   "metadata": {},
   "source": [
    "# Python Introduction\n"
   ]
  },
  {
   "cell_type": "markdown",
   "id": "322ec769",
   "metadata": {},
   "source": [
    "## Python comment\n"
   ]
  },
  {
   "cell_type": "code",
   "execution_count": 1,
   "id": "e7a7e101",
   "metadata": {},
   "outputs": [],
   "source": [
    "# single line comment"
   ]
  },
  {
   "cell_type": "markdown",
   "id": "e5dc77f6",
   "metadata": {},
   "source": [
    "## Python Variable"
   ]
  },
  {
   "cell_type": "code",
   "execution_count": 2,
   "id": "c6c1deea",
   "metadata": {},
   "outputs": [],
   "source": [
    "age = 35\n",
    "name = \"Jon Doe\"\n",
    "is_student = True\n",
    "cgpa = 3.50"
   ]
  },
  {
   "cell_type": "markdown",
   "id": "7c97acc3",
   "metadata": {},
   "source": [
    "## Python Data types"
   ]
  },
  {
   "cell_type": "code",
   "execution_count": 3,
   "id": "5e3a2462",
   "metadata": {},
   "outputs": [
    {
     "name": "stdout",
     "output_type": "stream",
     "text": [
      "<class 'int'>\n"
     ]
    }
   ],
   "source": [
    "# Integer type\n",
    "num = 10\n",
    "print(type(num))"
   ]
  },
  {
   "cell_type": "code",
   "execution_count": 4,
   "id": "e99aebcf",
   "metadata": {},
   "outputs": [
    {
     "name": "stdout",
     "output_type": "stream",
     "text": [
      "<class 'float'>\n"
     ]
    }
   ],
   "source": [
    "# Float Type\n",
    "pi = 3.1416\n",
    "print(type(pi))"
   ]
  },
  {
   "cell_type": "code",
   "execution_count": 5,
   "id": "68d42409",
   "metadata": {},
   "outputs": [
    {
     "name": "stdout",
     "output_type": "stream",
     "text": [
      "<class 'str'>\n"
     ]
    }
   ],
   "source": [
    "# String type\n",
    "str = \"ML\"\n",
    "print(type(str))"
   ]
  },
  {
   "cell_type": "code",
   "execution_count": 6,
   "id": "74b7a54d",
   "metadata": {},
   "outputs": [
    {
     "name": "stdout",
     "output_type": "stream",
     "text": [
      "<class 'bool'>\n"
     ]
    }
   ],
   "source": [
    "# Boolean type\n",
    "is_true = False\n",
    "print(type(is_true))"
   ]
  },
  {
   "cell_type": "markdown",
   "id": "922d8617",
   "metadata": {},
   "source": [
    "## Python Casting"
   ]
  },
  {
   "cell_type": "code",
   "execution_count": 7,
   "id": "beddf43d",
   "metadata": {},
   "outputs": [],
   "source": [
    "# Specify a varaible type\n",
    "x = int(1)\n",
    "y = int(2.5)\n",
    "z = int(\"5\")"
   ]
  },
  {
   "cell_type": "code",
   "execution_count": 8,
   "id": "c2f74118",
   "metadata": {},
   "outputs": [
    {
     "name": "stdout",
     "output_type": "stream",
     "text": [
      "1\n",
      "2\n",
      "5\n"
     ]
    }
   ],
   "source": [
    "print(x)\n",
    "print(y)\n",
    "print(z)"
   ]
  },
  {
   "cell_type": "markdown",
   "id": "0ae03a5b",
   "metadata": {},
   "source": [
    "## Python Input/Output"
   ]
  },
  {
   "cell_type": "code",
   "execution_count": 9,
   "id": "0036e56b",
   "metadata": {},
   "outputs": [
    {
     "name": "stdout",
     "output_type": "stream",
     "text": [
      "Enter Your Namek\n",
      "k\n"
     ]
    }
   ],
   "source": [
    "# Taking user input\n",
    "name = input(\"Enter Your Name\")\n",
    "print(name)"
   ]
  },
  {
   "cell_type": "code",
   "execution_count": 10,
   "id": "531e0d09",
   "metadata": {},
   "outputs": [
    {
     "name": "stdout",
     "output_type": "stream",
     "text": [
      "Enter two number : l\n"
     ]
    },
    {
     "ename": "ValueError",
     "evalue": "not enough values to unpack (expected 2, got 1)",
     "output_type": "error",
     "traceback": [
      "\u001b[1;31m---------------------------------------------------------------------------\u001b[0m",
      "\u001b[1;31mValueError\u001b[0m                                Traceback (most recent call last)",
      "Cell \u001b[1;32mIn[10], line 2\u001b[0m\n\u001b[0;32m      1\u001b[0m \u001b[38;5;66;03m# Taking multiple inputs in a single line\u001b[39;00m\n\u001b[1;32m----> 2\u001b[0m x,y \u001b[38;5;241m=\u001b[39m \u001b[38;5;28minput\u001b[39m(\u001b[38;5;124m\"\u001b[39m\u001b[38;5;124mEnter two number : \u001b[39m\u001b[38;5;124m\"\u001b[39m)\u001b[38;5;241m.\u001b[39msplit()\n\u001b[0;32m      3\u001b[0m \u001b[38;5;28mprint\u001b[39m(x,y)\n",
      "\u001b[1;31mValueError\u001b[0m: not enough values to unpack (expected 2, got 1)"
     ]
    }
   ],
   "source": [
    "# Taking multiple inputs in a single line\n",
    "x,y = input(\"Enter two number : \").split()\n",
    "print(x,y)"
   ]
  },
  {
   "cell_type": "markdown",
   "id": "5790e87a",
   "metadata": {},
   "source": [
    "## Python Strings"
   ]
  },
  {
   "cell_type": "code",
   "execution_count": null,
   "id": "640900f2",
   "metadata": {},
   "outputs": [],
   "source": [
    "# Single quoted string\n",
    "single = 'ML'\n",
    "# Double quoted string\n",
    "double = \"ML\"\n",
    "\n",
    "print(single,double)"
   ]
  },
  {
   "cell_type": "code",
   "execution_count": null,
   "id": "1b6c83af",
   "metadata": {},
   "outputs": [],
   "source": [
    "# String concatanation\n",
    "str1 = \"ML\"\n",
    "str2 = \"CSE\"\n",
    "# Default space added (shift + tab to any function details)\n",
    "print(str1,'',str2)"
   ]
  },
  {
   "cell_type": "code",
   "execution_count": null,
   "id": "e04331fb",
   "metadata": {},
   "outputs": [],
   "source": [
    "print(str1,'',str2)"
   ]
  },
  {
   "cell_type": "code",
   "execution_count": null,
   "id": "4a8f9ff3",
   "metadata": {},
   "outputs": [],
   "source": [
    "print(str1,'',str2,sep='/')\n",
    "print(str1,'',str2,sep='')\n",
    "print(str1,'',str2,sep='-',end='!')"
   ]
  },
  {
   "cell_type": "code",
   "execution_count": null,
   "id": "42a94eb0",
   "metadata": {},
   "outputs": [],
   "source": [
    "str1 = \"Hello Boss\"\n",
    "print(str1[0])"
   ]
  },
  {
   "cell_type": "code",
   "execution_count": null,
   "id": "f5e02431",
   "metadata": {},
   "outputs": [],
   "source": [
    "# String slicing\n",
    "course_name = \"Machine Learning\"\n",
    "print(course_name[0:5])\n",
    "print(course_name[1:6])"
   ]
  },
  {
   "cell_type": "code",
   "execution_count": null,
   "id": "d24ff23d",
   "metadata": {},
   "outputs": [],
   "source": [
    "course_name.upper()"
   ]
  },
  {
   "cell_type": "code",
   "execution_count": null,
   "id": "cd985b41",
   "metadata": {},
   "outputs": [],
   "source": [
    "course_name.lower()"
   ]
  },
  {
   "cell_type": "code",
   "execution_count": null,
   "id": "ea23be69",
   "metadata": {},
   "outputs": [],
   "source": [
    "course_name.find(\"L\")"
   ]
  },
  {
   "cell_type": "code",
   "execution_count": null,
   "id": "6739aefe",
   "metadata": {},
   "outputs": [],
   "source": [
    "# remove space\n",
    "test = \"           hadfhja         \"\n",
    "test.strip()"
   ]
  },
  {
   "cell_type": "markdown",
   "id": "5721832f",
   "metadata": {},
   "source": [
    "## Python Lists"
   ]
  },
  {
   "cell_type": "code",
   "execution_count": null,
   "id": "3cbbe322",
   "metadata": {},
   "outputs": [],
   "source": [
    "# Create Lists\n",
    "numbers = [1,2,3,4,5]\n",
    "names = [\"Alice\",'Bob','abc']\n",
    "mixed = [1,2.2,'abc']\n",
    "\n",
    "print(numbers)\n",
    "print(names)\n",
    "print(mixed)"
   ]
  },
  {
   "cell_type": "code",
   "execution_count": null,
   "id": "29280b90",
   "metadata": {},
   "outputs": [],
   "source": [
    "print(type(mixed))"
   ]
  },
  {
   "cell_type": "code",
   "execution_count": null,
   "id": "3f30bc0a",
   "metadata": {},
   "outputs": [],
   "source": [
    "numbers.extend([7,8])\n",
    "print(numbers)"
   ]
  },
  {
   "cell_type": "code",
   "execution_count": null,
   "id": "8622492c",
   "metadata": {},
   "outputs": [],
   "source": [
    "numbers.sort()\n",
    "numbers"
   ]
  },
  {
   "cell_type": "code",
   "execution_count": 1,
   "id": "b1c71454",
   "metadata": {},
   "outputs": [
    {
     "name": "stdout",
     "output_type": "stream",
     "text": [
      "[1, 2, 3, 4]\n",
      "[1, 2, 3]\n",
      "[1, 3, 5]\n"
     ]
    }
   ],
   "source": [
    "# slicing\n",
    "num = [1,2,3,4,5,6]\n",
    "print(num[0:4])\n",
    "print(num[:3])\n",
    "print(num[::1])"
   ]
  },
  {
   "cell_type": "code",
   "execution_count": null,
   "id": "46124851",
   "metadata": {},
   "outputs": [],
   "source": []
  }
 ],
 "metadata": {
  "kernelspec": {
   "display_name": "Python 3 (ipykernel)",
   "language": "python",
   "name": "python3"
  },
  "language_info": {
   "codemirror_mode": {
    "name": "ipython",
    "version": 3
   },
   "file_extension": ".py",
   "mimetype": "text/x-python",
   "name": "python",
   "nbconvert_exporter": "python",
   "pygments_lexer": "ipython3",
   "version": "3.11.5"
  }
 },
 "nbformat": 4,
 "nbformat_minor": 5
}
