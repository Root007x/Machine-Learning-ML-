{
 "cells": [
  {
   "cell_type": "markdown",
   "id": "581885c7",
   "metadata": {},
   "source": [
    "# Python Introduction\n"
   ]
  },
  {
   "cell_type": "markdown",
   "id": "322ec769",
   "metadata": {},
   "source": [
    "## Python comment\n"
   ]
  },
  {
   "cell_type": "code",
   "execution_count": 1,
   "id": "e7a7e101",
   "metadata": {},
   "outputs": [],
   "source": [
    "# single line comment"
   ]
  },
  {
   "cell_type": "markdown",
   "id": "e5dc77f6",
   "metadata": {},
   "source": [
    "## Python Variable"
   ]
  },
  {
   "cell_type": "code",
   "execution_count": 2,
   "id": "c6c1deea",
   "metadata": {},
   "outputs": [],
   "source": [
    "age = 35\n",
    "name = \"Jon Doe\"\n",
    "is_student = True\n",
    "cgpa = 3.50"
   ]
  },
  {
   "cell_type": "markdown",
   "id": "7c97acc3",
   "metadata": {},
   "source": [
    "## Python Data types"
   ]
  },
  {
   "cell_type": "code",
   "execution_count": 3,
   "id": "5e3a2462",
   "metadata": {},
   "outputs": [
    {
     "name": "stdout",
     "output_type": "stream",
     "text": [
      "<class 'int'>\n"
     ]
    }
   ],
   "source": [
    "# Integer type\n",
    "num = 10\n",
    "print(type(num))"
   ]
  },
  {
   "cell_type": "code",
   "execution_count": 4,
   "id": "e99aebcf",
   "metadata": {},
   "outputs": [
    {
     "name": "stdout",
     "output_type": "stream",
     "text": [
      "<class 'float'>\n"
     ]
    }
   ],
   "source": [
    "# Float Type\n",
    "pi = 3.1416\n",
    "print(type(pi))"
   ]
  },
  {
   "cell_type": "code",
   "execution_count": 5,
   "id": "68d42409",
   "metadata": {},
   "outputs": [
    {
     "name": "stdout",
     "output_type": "stream",
     "text": [
      "<class 'str'>\n"
     ]
    }
   ],
   "source": [
    "# String type\n",
    "str = \"ML\"\n",
    "print(type(str))"
   ]
  },
  {
   "cell_type": "code",
   "execution_count": 6,
   "id": "74b7a54d",
   "metadata": {},
   "outputs": [
    {
     "name": "stdout",
     "output_type": "stream",
     "text": [
      "<class 'bool'>\n"
     ]
    }
   ],
   "source": [
    "# Boolean type\n",
    "is_true = False\n",
    "print(type(is_true))"
   ]
  },
  {
   "cell_type": "markdown",
   "id": "922d8617",
   "metadata": {},
   "source": [
    "## Python Casting"
   ]
  },
  {
   "cell_type": "code",
   "execution_count": 7,
   "id": "beddf43d",
   "metadata": {},
   "outputs": [],
   "source": [
    "# Specify a varaible type\n",
    "x = int(1)\n",
    "y = int(2.5)\n",
    "z = int(\"5\")"
   ]
  },
  {
   "cell_type": "code",
   "execution_count": 8,
   "id": "c2f74118",
   "metadata": {},
   "outputs": [
    {
     "name": "stdout",
     "output_type": "stream",
     "text": [
      "1\n",
      "2\n",
      "5\n"
     ]
    }
   ],
   "source": [
    "print(x)\n",
    "print(y)\n",
    "print(z)"
   ]
  },
  {
   "cell_type": "markdown",
   "id": "0ae03a5b",
   "metadata": {},
   "source": [
    "## Python Input/Output"
   ]
  },
  {
   "cell_type": "code",
   "execution_count": 9,
   "id": "0036e56b",
   "metadata": {},
   "outputs": [
    {
     "name": "stdout",
     "output_type": "stream",
     "text": [
      "Enter Your Namek\n",
      "k\n"
     ]
    }
   ],
   "source": [
    "# Taking user input\n",
    "name = input(\"Enter Your Name\")\n",
    "print(name)"
   ]
  },
  {
   "cell_type": "code",
   "execution_count": 10,
   "id": "531e0d09",
   "metadata": {},
   "outputs": [
    {
     "name": "stdout",
     "output_type": "stream",
     "text": [
      "Enter two number : l\n"
     ]
    },
    {
     "ename": "ValueError",
     "evalue": "not enough values to unpack (expected 2, got 1)",
     "output_type": "error",
     "traceback": [
      "\u001b[1;31m---------------------------------------------------------------------------\u001b[0m",
      "\u001b[1;31mValueError\u001b[0m                                Traceback (most recent call last)",
      "Cell \u001b[1;32mIn[10], line 2\u001b[0m\n\u001b[0;32m      1\u001b[0m \u001b[38;5;66;03m# Taking multiple inputs in a single line\u001b[39;00m\n\u001b[1;32m----> 2\u001b[0m x,y \u001b[38;5;241m=\u001b[39m \u001b[38;5;28minput\u001b[39m(\u001b[38;5;124m\"\u001b[39m\u001b[38;5;124mEnter two number : \u001b[39m\u001b[38;5;124m\"\u001b[39m)\u001b[38;5;241m.\u001b[39msplit()\n\u001b[0;32m      3\u001b[0m \u001b[38;5;28mprint\u001b[39m(x,y)\n",
      "\u001b[1;31mValueError\u001b[0m: not enough values to unpack (expected 2, got 1)"
     ]
    }
   ],
   "source": [
    "# Taking multiple inputs in a single line\n",
    "x,y = input(\"Enter two number : \").split()\n",
    "print(x,y)"
   ]
  },
  {
   "cell_type": "markdown",
   "id": "5790e87a",
   "metadata": {},
   "source": [
    "## Python Strings"
   ]
  },
  {
   "cell_type": "code",
   "execution_count": null,
   "id": "640900f2",
   "metadata": {},
   "outputs": [],
   "source": [
    "# Single quoted string\n",
    "single = 'ML'\n",
    "# Double quoted string\n",
    "double = \"ML\"\n",
    "\n",
    "print(single,double)"
   ]
  },
  {
   "cell_type": "code",
   "execution_count": null,
   "id": "1b6c83af",
   "metadata": {},
   "outputs": [],
   "source": [
    "# String concatanation\n",
    "str1 = \"ML\"\n",
    "str2 = \"CSE\"\n",
    "# Default space added (shift + tab to any function details)\n",
    "print(str1,'',str2)"
   ]
  },
  {
   "cell_type": "code",
   "execution_count": null,
   "id": "e04331fb",
   "metadata": {},
   "outputs": [],
   "source": [
    "print(str1,'',str2)"
   ]
  },
  {
   "cell_type": "code",
   "execution_count": null,
   "id": "4a8f9ff3",
   "metadata": {},
   "outputs": [],
   "source": [
    "print(str1,'',str2,sep='/')\n",
    "print(str1,'',str2,sep='')\n",
    "print(str1,'',str2,sep='-',end='!')"
   ]
  },
  {
   "cell_type": "code",
   "execution_count": null,
   "id": "42a94eb0",
   "metadata": {},
   "outputs": [],
   "source": [
    "str1 = \"Hello Boss\"\n",
    "print(str1[0])"
   ]
  },
  {
   "cell_type": "code",
   "execution_count": null,
   "id": "f5e02431",
   "metadata": {},
   "outputs": [],
   "source": [
    "# String slicing\n",
    "course_name = \"Machine Learning\"\n",
    "print(course_name[0:5])\n",
    "print(course_name[1:6])"
   ]
  },
  {
   "cell_type": "code",
   "execution_count": null,
   "id": "d24ff23d",
   "metadata": {},
   "outputs": [],
   "source": [
    "course_name.upper()"
   ]
  },
  {
   "cell_type": "code",
   "execution_count": null,
   "id": "cd985b41",
   "metadata": {},
   "outputs": [],
   "source": [
    "course_name.lower()"
   ]
  },
  {
   "cell_type": "code",
   "execution_count": null,
   "id": "ea23be69",
   "metadata": {},
   "outputs": [],
   "source": [
    "course_name.find(\"L\")"
   ]
  },
  {
   "cell_type": "code",
   "execution_count": null,
   "id": "6739aefe",
   "metadata": {},
   "outputs": [],
   "source": [
    "# remove space\n",
    "test = \"           hadfhja         \"\n",
    "test.strip()"
   ]
  },
  {
   "cell_type": "markdown",
   "id": "5721832f",
   "metadata": {},
   "source": [
    "## Python Lists"
   ]
  },
  {
   "cell_type": "code",
   "execution_count": null,
   "id": "3cbbe322",
   "metadata": {},
   "outputs": [],
   "source": [
    "# Create Lists\n",
    "numbers = [1,2,3,4,5]\n",
    "names = [\"Alice\",'Bob','abc']\n",
    "mixed = [1,2.2,'abc']\n",
    "\n",
    "print(numbers)\n",
    "print(names)\n",
    "print(mixed)"
   ]
  },
  {
   "cell_type": "code",
   "execution_count": null,
   "id": "29280b90",
   "metadata": {},
   "outputs": [],
   "source": [
    "print(type(mixed))"
   ]
  },
  {
   "cell_type": "code",
   "execution_count": null,
   "id": "3f30bc0a",
   "metadata": {},
   "outputs": [],
   "source": [
    "numbers.extend([7,8])\n",
    "print(numbers)"
   ]
  },
  {
   "cell_type": "code",
   "execution_count": null,
   "id": "8622492c",
   "metadata": {},
   "outputs": [],
   "source": [
    "numbers.sort()\n",
    "numbers"
   ]
  },
  {
   "cell_type": "code",
   "execution_count": 3,
   "id": "b1c71454",
   "metadata": {},
   "outputs": [
    {
     "name": "stdout",
     "output_type": "stream",
     "text": [
      "[1, 2, 3, 4]\n",
      "[1, 2, 3]\n",
      "[1, 4]\n"
     ]
    }
   ],
   "source": [
    "# slicing\n",
    "num = [1,2,3,4,5,6]\n",
    "print(num[0:4])\n",
    "print(num[:3])\n",
    "print(num[::3])"
   ]
  },
  {
   "cell_type": "code",
   "execution_count": 6,
   "id": "46124851",
   "metadata": {},
   "outputs": [
    {
     "ename": "ValueError",
     "evalue": "list.remove(x): x not in list",
     "output_type": "error",
     "traceback": [
      "\u001b[1;31m---------------------------------------------------------------------------\u001b[0m",
      "\u001b[1;31mValueError\u001b[0m                                Traceback (most recent call last)",
      "Cell \u001b[1;32mIn[6], line 1\u001b[0m\n\u001b[1;32m----> 1\u001b[0m num\u001b[38;5;241m.\u001b[39mremove(\u001b[38;5;241m5\u001b[39m)\n\u001b[0;32m      2\u001b[0m \u001b[38;5;28mprint\u001b[39m(num)\n",
      "\u001b[1;31mValueError\u001b[0m: list.remove(x): x not in list"
     ]
    }
   ],
   "source": [
    "num.remove(5)"
   ]
  },
  {
   "cell_type": "code",
   "execution_count": 7,
   "id": "d1c9b8e6",
   "metadata": {},
   "outputs": [
    {
     "name": "stdout",
     "output_type": "stream",
     "text": [
      "[1, 2, 3, 4, 6]\n"
     ]
    }
   ],
   "source": [
    "print(num)"
   ]
  },
  {
   "cell_type": "code",
   "execution_count": 8,
   "id": "e8d9ee2b",
   "metadata": {},
   "outputs": [
    {
     "data": {
      "text/plain": [
       "6"
      ]
     },
     "execution_count": 8,
     "metadata": {},
     "output_type": "execute_result"
    }
   ],
   "source": [
    "num.pop()"
   ]
  },
  {
   "cell_type": "code",
   "execution_count": 9,
   "id": "89f3df6d",
   "metadata": {},
   "outputs": [],
   "source": [
    "num.reverse()"
   ]
  },
  {
   "cell_type": "code",
   "execution_count": 10,
   "id": "fe9e756d",
   "metadata": {},
   "outputs": [
    {
     "name": "stdout",
     "output_type": "stream",
     "text": [
      "[4, 3, 2, 1]\n"
     ]
    }
   ],
   "source": [
    "print(num)"
   ]
  },
  {
   "cell_type": "markdown",
   "id": "68485569",
   "metadata": {},
   "source": [
    "## For Loop"
   ]
  },
  {
   "cell_type": "code",
   "execution_count": 11,
   "id": "49550c99",
   "metadata": {},
   "outputs": [
    {
     "data": {
      "text/plain": [
       "range(0, 3)"
      ]
     },
     "execution_count": 11,
     "metadata": {},
     "output_type": "execute_result"
    }
   ],
   "source": [
    "# range function\n",
    "range(0,3)"
   ]
  },
  {
   "cell_type": "code",
   "execution_count": 12,
   "id": "81a44dcf",
   "metadata": {},
   "outputs": [
    {
     "name": "stdout",
     "output_type": "stream",
     "text": [
      "0\n",
      "1\n",
      "2\n",
      "3\n",
      "4\n"
     ]
    }
   ],
   "source": [
    " for i in range(0,5):\n",
    "        print(i)"
   ]
  },
  {
   "cell_type": "code",
   "execution_count": 13,
   "id": "2fb44bee",
   "metadata": {},
   "outputs": [
    {
     "name": "stdout",
     "output_type": "stream",
     "text": [
      "apple\n",
      "banana\n",
      "cherry\n"
     ]
    }
   ],
   "source": [
    "# Looping with list\n",
    "fruits = ['apple','banana','cherry']\n",
    "for i in fruits:\n",
    "    print(i)"
   ]
  },
  {
   "cell_type": "code",
   "execution_count": 14,
   "id": "c9ab4313",
   "metadata": {},
   "outputs": [
    {
     "name": "stdout",
     "output_type": "stream",
     "text": [
      "Number : 1, Index : 0\n",
      "Number : 2, Index : 1\n",
      "Number : 3, Index : 2\n",
      "Number : 4, Index : 3\n",
      "Number : 5, Index : 4\n",
      "Number : 6, Index : 5\n"
     ]
    }
   ],
   "source": [
    "# using enumerate with for loop\n",
    "lists = [1,2,3,4,5,6]\n",
    "for index,name in enumerate(lists):\n",
    "    print(f\"Number : {name}, Index : {index}\" )"
   ]
  },
  {
   "cell_type": "code",
   "execution_count": 16,
   "id": "f07cc5ea",
   "metadata": {},
   "outputs": [
    {
     "name": "stdout",
     "output_type": "stream",
     "text": [
      "1\n",
      "2\n",
      "3\n",
      "4\n",
      "5\n",
      "6\n"
     ]
    }
   ],
   "source": [
    "for i in range(len(lists)):\n",
    "    print(lists[i])"
   ]
  },
  {
   "cell_type": "code",
   "execution_count": 17,
   "id": "a1df7dd1",
   "metadata": {},
   "outputs": [
    {
     "name": "stdout",
     "output_type": "stream",
     "text": [
      "[22.2, 25.16, 26.23, 23.05]\n"
     ]
    }
   ],
   "source": [
    "# BMI calculation\n",
    "heights = [1.75,1.68,1.80,1.60]\n",
    "weights = [68,71,85,59]\n",
    "bmi_result = []\n",
    "\n",
    "for i in range(len(heights)):\n",
    "    bmi = round(weights[i]/heights[i]**2,2) # 2 floting point\n",
    "    bmi_result.append(bmi)\n",
    "print(bmi_result)"
   ]
  },
  {
   "cell_type": "markdown",
   "id": "65a3bd20",
   "metadata": {},
   "source": [
    "## Python Tuple\n",
    "* Ordered\n",
    "* Unchangeable\n",
    "* Allow Duplicates\n",
    "* Data Type 'tuple'"
   ]
  },
  {
   "cell_type": "code",
   "execution_count": 19,
   "id": "71e59779",
   "metadata": {},
   "outputs": [
    {
     "name": "stdout",
     "output_type": "stream",
     "text": [
      "()\n"
     ]
    }
   ],
   "source": [
    "empty_tup = ()\n",
    "print(empty_tup)"
   ]
  },
  {
   "cell_type": "code",
   "execution_count": 21,
   "id": "2c377036",
   "metadata": {},
   "outputs": [
    {
     "name": "stdout",
     "output_type": "stream",
     "text": [
      "(1, 2, 3, 4, True, 'Hi')\n",
      "1\n"
     ]
    }
   ],
   "source": [
    "# Accessing tuple items\n",
    "my_tuple = (1,2,3,4,True,'Hi')\n",
    "print(my_tuple)\n",
    "print(my_tuple[0])"
   ]
  },
  {
   "cell_type": "code",
   "execution_count": 22,
   "id": "11233734",
   "metadata": {},
   "outputs": [
    {
     "name": "stdout",
     "output_type": "stream",
     "text": [
      "1 2 3\n"
     ]
    }
   ],
   "source": [
    "# Unpacking tuple\n",
    "num_tup = (1,2,3)\n",
    "a,b,c = num_tup\n",
    "print(a,b,c)"
   ]
  },
  {
   "cell_type": "code",
   "execution_count": 23,
   "id": "8eebb931",
   "metadata": {},
   "outputs": [
    {
     "data": {
      "text/plain": [
       "(1, 1, 2, 2, 3)"
      ]
     },
     "execution_count": 23,
     "metadata": {},
     "output_type": "execute_result"
    }
   ],
   "source": [
    "# Duplicates\n",
    "tup1 = (1,1,2,2,3)\n",
    "tup1\n"
   ]
  },
  {
   "cell_type": "code",
   "execution_count": 24,
   "id": "1099ead7",
   "metadata": {},
   "outputs": [
    {
     "ename": "TypeError",
     "evalue": "'tuple' object does not support item assignment",
     "output_type": "error",
     "traceback": [
      "\u001b[1;31m---------------------------------------------------------------------------\u001b[0m",
      "\u001b[1;31mTypeError\u001b[0m                                 Traceback (most recent call last)",
      "Cell \u001b[1;32mIn[24], line 4\u001b[0m\n\u001b[0;32m      2\u001b[0m num \u001b[38;5;241m=\u001b[39m (\u001b[38;5;241m1\u001b[39m,\u001b[38;5;241m2\u001b[39m,\u001b[38;5;241m3\u001b[39m)\n\u001b[0;32m      3\u001b[0m \u001b[38;5;66;03m# Trying to change on items\u001b[39;00m\n\u001b[1;32m----> 4\u001b[0m num[\u001b[38;5;241m0\u001b[39m] \u001b[38;5;241m=\u001b[39m \u001b[38;5;241m10\u001b[39m\n",
      "\u001b[1;31mTypeError\u001b[0m: 'tuple' object does not support item assignment"
     ]
    }
   ],
   "source": [
    "# Immutable nature of tuples\n",
    "num = (1,2,3)\n",
    "# Trying to change on items\n",
    "num[0] = 10"
   ]
  },
  {
   "cell_type": "code",
   "execution_count": 25,
   "id": "5a8443c8",
   "metadata": {},
   "outputs": [
    {
     "ename": "AttributeError",
     "evalue": "'tuple' object has no attribute 'append'",
     "output_type": "error",
     "traceback": [
      "\u001b[1;31m---------------------------------------------------------------------------\u001b[0m",
      "\u001b[1;31mAttributeError\u001b[0m                            Traceback (most recent call last)",
      "Cell \u001b[1;32mIn[25], line 2\u001b[0m\n\u001b[0;32m      1\u001b[0m \u001b[38;5;66;03m# Trying to add an element\u001b[39;00m\n\u001b[1;32m----> 2\u001b[0m num\u001b[38;5;241m.\u001b[39mappend(\u001b[38;5;241m0\u001b[39m)\n",
      "\u001b[1;31mAttributeError\u001b[0m: 'tuple' object has no attribute 'append'"
     ]
    }
   ],
   "source": [
    "# Trying to add an element\n",
    "num.append(0)"
   ]
  },
  {
   "cell_type": "markdown",
   "id": "8bfc976b",
   "metadata": {},
   "source": [
    "## Python Set\n",
    "* Unordered\n",
    "* Unchangebale\n",
    "* Do not allow duplicates\n"
   ]
  },
  {
   "cell_type": "code",
   "execution_count": 26,
   "id": "56311b5c",
   "metadata": {},
   "outputs": [
    {
     "name": "stdout",
     "output_type": "stream",
     "text": [
      "{1, 2, 3}\n",
      "<class 'set'>\n"
     ]
    }
   ],
   "source": [
    "set1 = {1,2,3}\n",
    "print(set1)\n",
    "print(type(set1))"
   ]
  },
  {
   "cell_type": "code",
   "execution_count": 29,
   "id": "e739d0db",
   "metadata": {},
   "outputs": [
    {
     "name": "stdout",
     "output_type": "stream",
     "text": [
      "False\n",
      "True\n",
      "2\n",
      "3.14\n",
      "10\n",
      "apple\n"
     ]
    }
   ],
   "source": [
    "my_set = {10,10,2,True,3.14,False,'apple'}\n",
    "for item in my_set:\n",
    "    print(item)"
   ]
  },
  {
   "cell_type": "code",
   "execution_count": 30,
   "id": "a7bf5f80",
   "metadata": {},
   "outputs": [
    {
     "ename": "TypeError",
     "evalue": "'set' object does not support item assignment",
     "output_type": "error",
     "traceback": [
      "\u001b[1;31m---------------------------------------------------------------------------\u001b[0m",
      "\u001b[1;31mTypeError\u001b[0m                                 Traceback (most recent call last)",
      "Cell \u001b[1;32mIn[30], line 2\u001b[0m\n\u001b[0;32m      1\u001b[0m \u001b[38;5;66;03m# unchangable\u001b[39;00m\n\u001b[1;32m----> 2\u001b[0m my_set[\u001b[38;5;241m0\u001b[39m] \u001b[38;5;241m=\u001b[39m \u001b[38;5;241m20\u001b[39m\n",
      "\u001b[1;31mTypeError\u001b[0m: 'set' object does not support item assignment"
     ]
    }
   ],
   "source": [
    "# unchangable\n",
    "my_set[0] = 20"
   ]
  },
  {
   "cell_type": "markdown",
   "id": "76c8e4a8",
   "metadata": {},
   "source": [
    "## Python Dictionary\n",
    "* key : value pair\n",
    "* ordered\n",
    "* Changable\n",
    "* Do not allow Duplicates\n"
   ]
  },
  {
   "cell_type": "code",
   "execution_count": 31,
   "id": "d8b4353f",
   "metadata": {},
   "outputs": [
    {
     "name": "stdout",
     "output_type": "stream",
     "text": [
      "{'brand': 'BMW', 'model': 'M3', 'Year': 1888}\n"
     ]
    }
   ],
   "source": [
    "car = {\n",
    "    'brand' : 'BMW',\n",
    "    'model' : 'M3',\n",
    "    'Year' : 1888\n",
    "}\n",
    "\n",
    "print(car)"
   ]
  },
  {
   "cell_type": "code",
   "execution_count": 32,
   "id": "4f258d80",
   "metadata": {},
   "outputs": [
    {
     "name": "stdout",
     "output_type": "stream",
     "text": [
      "BMW\n"
     ]
    }
   ],
   "source": [
    "print(car['brand'])"
   ]
  },
  {
   "cell_type": "code",
   "execution_count": 33,
   "id": "f2d07f87",
   "metadata": {},
   "outputs": [
    {
     "data": {
      "text/plain": [
       "{'name': ['jon snow', 'Ihsanul Haque', 'Mark'], 'cgpa': [1, 3, 4, 5]}"
      ]
     },
     "execution_count": 33,
     "metadata": {},
     "output_type": "execute_result"
    }
   ],
   "source": [
    "# List values with dict\n",
    "students = {\n",
    "    'name' : ['jon snow',\"Ihsanul Haque\",\"Mark\"],\n",
    "    'cgpa' : [1,3,4,5]\n",
    "}\n",
    "\n",
    "students\n"
   ]
  },
  {
   "cell_type": "code",
   "execution_count": 35,
   "id": "4993ba69",
   "metadata": {},
   "outputs": [
    {
     "name": "stdout",
     "output_type": "stream",
     "text": [
      "jon snow\n",
      "Ihsanul Haque\n",
      "Mark\n"
     ]
    }
   ],
   "source": [
    "for name in students['name']:\n",
    "    print(name)"
   ]
  },
  {
   "cell_type": "code",
   "execution_count": 36,
   "id": "d3d5fb33",
   "metadata": {},
   "outputs": [
    {
     "data": {
      "text/plain": [
       "'jon snow'"
      ]
     },
     "execution_count": 36,
     "metadata": {},
     "output_type": "execute_result"
    }
   ],
   "source": [
    "students['name'][0]"
   ]
  },
  {
   "cell_type": "code",
   "execution_count": 38,
   "id": "23c02d3b",
   "metadata": {},
   "outputs": [],
   "source": [
    "students['major'] = ['Politics','MAL']"
   ]
  },
  {
   "cell_type": "code",
   "execution_count": 39,
   "id": "9c567a66",
   "metadata": {},
   "outputs": [
    {
     "data": {
      "text/plain": [
       "{'name': ['jon snow', 'Ihsanul Haque', 'Mark'],\n",
       " 'cgpa': [1, 3, 4, 5],\n",
       " 'major': ['Politics', 'MAL']}"
      ]
     },
     "execution_count": 39,
     "metadata": {},
     "output_type": "execute_result"
    }
   ],
   "source": [
    "students\n"
   ]
  },
  {
   "cell_type": "code",
   "execution_count": 41,
   "id": "025b9db0",
   "metadata": {},
   "outputs": [
    {
     "ename": "KeyError",
     "evalue": "'cgpa'",
     "output_type": "error",
     "traceback": [
      "\u001b[1;31m---------------------------------------------------------------------------\u001b[0m",
      "\u001b[1;31mKeyError\u001b[0m                                  Traceback (most recent call last)",
      "Cell \u001b[1;32mIn[41], line 1\u001b[0m\n\u001b[1;32m----> 1\u001b[0m \u001b[38;5;28;01mdel\u001b[39;00m students[\u001b[38;5;124m'\u001b[39m\u001b[38;5;124mcgpa\u001b[39m\u001b[38;5;124m'\u001b[39m]\n",
      "\u001b[1;31mKeyError\u001b[0m: 'cgpa'"
     ]
    }
   ],
   "source": [
    "del students['cgpa']"
   ]
  },
  {
   "cell_type": "code",
   "execution_count": 42,
   "id": "75beee58",
   "metadata": {},
   "outputs": [
    {
     "data": {
      "text/plain": [
       "{'name': ['jon snow', 'Ihsanul Haque', 'Mark'], 'major': ['Politics', 'MAL']}"
      ]
     },
     "execution_count": 42,
     "metadata": {},
     "output_type": "execute_result"
    }
   ],
   "source": [
    "students"
   ]
  },
  {
   "cell_type": "code",
   "execution_count": 43,
   "id": "85c77ede",
   "metadata": {},
   "outputs": [],
   "source": [
    "# Dictionary methods\n",
    "key = students.keys()\n",
    "value = students.values()\n",
    "items = students.items()"
   ]
  },
  {
   "cell_type": "code",
   "execution_count": 44,
   "id": "22bc88b5",
   "metadata": {},
   "outputs": [
    {
     "name": "stdout",
     "output_type": "stream",
     "text": [
      "dict_keys(['name', 'major'])\n"
     ]
    }
   ],
   "source": [
    "print(key)"
   ]
  },
  {
   "cell_type": "code",
   "execution_count": 45,
   "id": "2cbe8a75",
   "metadata": {},
   "outputs": [
    {
     "name": "stdout",
     "output_type": "stream",
     "text": [
      "dict_values([['jon snow', 'Ihsanul Haque', 'Mark'], ['Politics', 'MAL']])\n"
     ]
    }
   ],
   "source": [
    "print(value)"
   ]
  },
  {
   "cell_type": "code",
   "execution_count": 46,
   "id": "cc88a2f7",
   "metadata": {},
   "outputs": [
    {
     "name": "stdout",
     "output_type": "stream",
     "text": [
      "dict_items([('name', ['jon snow', 'Ihsanul Haque', 'Mark']), ('major', ['Politics', 'MAL'])])\n"
     ]
    }
   ],
   "source": [
    "print(items)"
   ]
  },
  {
   "cell_type": "markdown",
   "id": "56753c79",
   "metadata": {},
   "source": [
    "## Varaible Scope"
   ]
  },
  {
   "cell_type": "code",
   "execution_count": null,
   "id": "9ad2a1fb",
   "metadata": {},
   "outputs": [],
   "source": [
    "# Global Var\n",
    "globap_var = 10\n"
   ]
  }
 ],
 "metadata": {
  "kernelspec": {
   "display_name": "Python 3 (ipykernel)",
   "language": "python",
   "name": "python3"
  },
  "language_info": {
   "codemirror_mode": {
    "name": "ipython",
    "version": 3
   },
   "file_extension": ".py",
   "mimetype": "text/x-python",
   "name": "python",
   "nbconvert_exporter": "python",
   "pygments_lexer": "ipython3",
   "version": "3.11.5"
  }
 },
 "nbformat": 4,
 "nbformat_minor": 5
}
